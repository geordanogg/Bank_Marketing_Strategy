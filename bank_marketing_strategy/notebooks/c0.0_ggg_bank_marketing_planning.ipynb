{
 "cells": [
  {
   "cell_type": "markdown",
   "metadata": {},
   "source": [
    "# <font color=\"#A0522D\">BANK MARKETING STRATEGY</font>"
   ]
  },
  {
   "cell_type": "markdown",
   "metadata": {
    "heading_collapsed": true
   },
   "source": [
    "## Planejamento da Solução (IOT)"
   ]
  },
  {
   "cell_type": "markdown",
   "metadata": {
    "hidden": true
   },
   "source": [
    "### INPUT (ENTRADA)"
   ]
  },
  {
   "cell_type": "markdown",
   "metadata": {
    "hidden": true
   },
   "source": [
    "1. **PROBLEMA DE NEGÓCIO**\n",
    "\n",
    "  O International Bank é um banco internacional que fornece produtos financeiros, como empréstimos, contas correntes, contas poupança, opções de investimentos, cartões de crédito e etc.\n",
    "\n",
    "  A cada quarter do ano, os líderes se reúnem para decidir os objetivos da empresa para os próximos 3 meses. Nessa última reunião, uma das metas decididas é a criação de uma estratégia de marketing para abordar os clientes que usam cartão de crédito.\n",
    "\n",
    "  OBJETIVO: Criar um produto de dados que cria uma segmentação de clientes que direcionará a estratégia de marketing e os resultados esperados são os seguintes:\n",
    "\n",
    "   * Criar uma segmentação de clientes baseado em critérios claros de seleção.\n",
    "   * Tornar a segmentação de clientes acessível para o time de operações.\n",
    "   * Ensinar o time de operações sobre como usar a sua solução.\n",
    "   * Transferir o conhecimento para os Cientistas de Dados da International Bank.\n",
    "   * Recomendar 2-3 alavancas de negócio para cada segmento de clientes.\n",
    "\n",
    "\n",
    "2. **CONJUNTO DE DADOS**\n",
    "  - A empresa possui um conjunto de dados sobre o comportamento de uso de aproximadamente 9000 usuários de cartão de crédito ativos, durante os últimos 6 meses. O arquivo está no nível de clientes e possui 18 variáveis comportamentais. Fonte:\n",
    "    https://www.kaggle.com/arjunbhasin2013/ccdata?select=CC+GENERAL.csv"
   ]
  },
  {
   "cell_type": "markdown",
   "metadata": {
    "hidden": true
   },
   "source": [
    "### OUTPUT (SAÍDA)"
   ]
  },
  {
   "cell_type": "markdown",
   "metadata": {
    "hidden": true
   },
   "source": [
    "1. **LISTA DE CLIENTES**\n",
    " - Uma lista com a indicação das pessoas, suas caracterśiticas e a qual segmento pertencem\n",
    "    \n",
    "    \n",
    "2. **RELATÓRIO DE RESPOSTAS**\n",
    " - Um relatório contendo as respostas para as seguintes perguntas de negócio:\n",
    "    - *Quem são as pessoas elegíveis para participar do programa de Insiders ?*\n",
    "    - *Quantos clientes farão parte do grupo?*\n",
    "    - *Quais as principais características desses clientes ?*\n",
    "    - *Qual a porcentagem de contribuição do faturamento, vinda do Insiders ?*\n",
    "    - *Qual a expectativa de faturamento desse grupo para os próximos meses ?*\n",
    "    - *Quais as condições para uma pessoa ser elegível ao Insiders ?*\n",
    "    - *Quais as condições para uma pessoa ser removida do Insiders ?*\n",
    "    - *Qual a garantia que o programa Insiders é melhor que o restante da base ?*\n",
    "    - *Quais ações o time de marketing pode realizar para aumentar o faturamento?*    "
   ]
  },
  {
   "cell_type": "markdown",
   "metadata": {
    "hidden": true
   },
   "source": [
    "### TASKS (TAREFAS)"
   ]
  },
  {
   "cell_type": "markdown",
   "metadata": {
    "hidden": true
   },
   "source": [
    "***1. Quem são as pessoas elegíveis para participar do programa de Insiders?***\n",
    " - O que é ser ***ELEGÍVEL***? Como a empresa define um cliente ***VALIOSO***?\n",
    " - 3 Abordagens:\n",
    "     - Faturamento:\n",
    "          - Alto Ticket Médio (valor médio das compras)\n",
    "          - Alto LTV (Lifetime Value: o valor retornado pelo cliente ao longo do tempo)\n",
    "          - Baixa Recência (tempo desde a última compra) ou Alta Frequência ( quantidade de compras )\n",
    "          - Alto Basket Size ( quantidade média de produtos comprados )\n",
    "          - Baixa probabilidade de Churn (encerrar relacionamento/contrato)\n",
    "          - Alta Previsão de LTV\n",
    "          - Alta propensão de compra\n",
    "\n",
    "     - Custo:\n",
    "          - Baixo número de devoluções\n",
    "\n",
    "     - Experiência:  \n",
    "          - Média alta de avaliações\n",
    "            \n",
    "            \n",
    "***2. Quantos clientes farão parte do grupo?***\n",
    "  - Número de clientes\n",
    "  - % do grupo em relação ao total de clientes\n",
    "    \n",
    "    \n",
    "***3. Quais as principais características desses clientes?***\n",
    "  - Escrever os principais atributos dos clientes\n",
    "       - Idade\n",
    "       - País\n",
    "       - Salário\n",
    "        \n",
    "  - Escrever os principais comportamentos de compra dos clientes ( métricas de negócio )\n",
    "       - Atributos da clusterização (vide acima)\n",
    "    \n",
    "    \n",
    "***4. Qual a porcentagem de contribuição do faturamento, vinda do Insiders?***\n",
    "  - Calcular o faturamento total da empresa durante o ano.\n",
    "  - Calcular o faturamento (%) apenas do cluster Insiders.\n",
    "  \n",
    "    \n",
    "***5. Qual a expectativa de faturamento desse grupo para os próximos meses?***\n",
    "  - Cálculo do LTV do grupo Insiders\n",
    "  - Séries Temporais ( ARMA, ARIMA, HoltWinter, etc )\n",
    "  - Análise de COHORT\n",
    "    \n",
    "\n",
    "***6. Quais as condições para uma pessoa ser elegível ao Insiders?***\n",
    "  - Qual o período de avaliação (semanal, mensal)?\n",
    "  - O \"desempenho\" do cliente está próximo da média do cluster *Insiders*. \n",
    "    \n",
    "    \n",
    "***7. Quais as condições para uma pessoa ser removida do Insiders?***\n",
    "  - O \"desempenho\" do cliente não está mais próximo da média do cluster *Insiders*. \n",
    "    \n",
    "    \n",
    "***8. Qual a garantia que o programa Insiders é melhor que o restante da base?***\n",
    "  - Teste de Hipóteses\n",
    "  - Teste A/B (Bayesiano)\n",
    "    \n",
    "    \n",
    "***9. Quais ações o time de marketing pode realizar para aumentar o faturamento?***\n",
    "  - Descontos\n",
    "  - Preferências de escolha\n",
    "  - Produtos exclusivos"
   ]
  },
  {
   "cell_type": "markdown",
   "metadata": {
    "heading_collapsed": true
   },
   "source": [
    "## 0.0 Imports"
   ]
  },
  {
   "cell_type": "markdown",
   "metadata": {},
   "source": [
    "## 1.0 Data Description"
   ]
  },
  {
   "cell_type": "markdown",
   "metadata": {},
   "source": [
    "## Data Filtering"
   ]
  },
  {
   "cell_type": "markdown",
   "metadata": {},
   "source": [
    "## Feature Engineering"
   ]
  },
  {
   "cell_type": "markdown",
   "metadata": {},
   "source": [
    "## EDA - Space Study"
   ]
  },
  {
   "cell_type": "markdown",
   "metadata": {},
   "source": [
    "## Data Preparation"
   ]
  },
  {
   "cell_type": "markdown",
   "metadata": {},
   "source": [
    "## Feature Selection"
   ]
  },
  {
   "cell_type": "markdown",
   "metadata": {},
   "source": [
    "## Hiperparameter Fine Tuning"
   ]
  },
  {
   "cell_type": "markdown",
   "metadata": {},
   "source": [
    "## Machine Learning Training"
   ]
  },
  {
   "cell_type": "markdown",
   "metadata": {},
   "source": [
    "## Clustering Analysis"
   ]
  },
  {
   "cell_type": "markdown",
   "metadata": {},
   "source": [
    "## EDA - Insight Reports"
   ]
  },
  {
   "cell_type": "markdown",
   "metadata": {},
   "source": [
    "## Deploy to Production"
   ]
  },
  {
   "cell_type": "code",
   "execution_count": null,
   "metadata": {},
   "outputs": [],
   "source": []
  }
 ],
 "metadata": {
  "kernelspec": {
   "display_name": "Python 3",
   "language": "python",
   "name": "python3"
  },
  "language_info": {
   "codemirror_mode": {
    "name": "ipython",
    "version": 3
   },
   "file_extension": ".py",
   "mimetype": "text/x-python",
   "name": "python",
   "nbconvert_exporter": "python",
   "pygments_lexer": "ipython3",
   "version": "3.8.10"
  }
 },
 "nbformat": 4,
 "nbformat_minor": 2
}
